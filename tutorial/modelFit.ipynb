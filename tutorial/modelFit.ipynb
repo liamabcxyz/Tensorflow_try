{
 "cells": [
  {
   "cell_type": "code",
   "execution_count": 1,
   "id": "radical-attack",
   "metadata": {},
   "outputs": [],
   "source": [
    "import tensorflow as tf"
   ]
  },
  {
   "cell_type": "code",
   "execution_count": 2,
   "id": "metropolitan-district",
   "metadata": {},
   "outputs": [],
   "source": [
    "#load and prepare handwrite dataset MNIST\n",
    "mnist = tf.keras.datasets.mnist\n",
    "(x_train, y_train), (x_test, y_test) = mnist.load_data()\n",
    "#Convert the samples from integers to floating-point numbers\n",
    "x_train, x_test = x_train / 255.0, x_test / 255.0"
   ]
  },
  {
   "cell_type": "code",
   "execution_count": 3,
   "id": "included-senator",
   "metadata": {},
   "outputs": [],
   "source": [
    "#Stacking layers with tf.keras.sequential\n",
    "model = tf.keras.models.Sequential([\n",
    "  tf.keras.layers.Flatten(input_shape=(28, 28)),\n",
    "  tf.keras.layers.Dense(128, activation='relu'),\n",
    "  tf.keras.layers.Dropout(0.2),\n",
    "  tf.keras.layers.Dense(10)\n",
    "])"
   ]
  },
  {
   "cell_type": "code",
   "execution_count": 4,
   "id": "stupid-nashville",
   "metadata": {},
   "outputs": [
    {
     "data": {
      "text/plain": [
       "array([[-0.16406414,  0.5323777 ,  0.23581801, -0.20124906,  0.37607884,\n",
       "         0.16601942,  0.24264139,  0.2612751 , -1.2117939 ,  0.07492875]],\n",
       "      dtype=float32)"
      ]
     },
     "execution_count": 4,
     "metadata": {},
     "output_type": "execute_result"
    }
   ],
   "source": [
    "#For each example the model returns a vector of \"logits\" or \"log-odds\" scores, one fro each class.\n",
    "#\"logits\": The vector of raw(non-normalized) predictions that a classification model generates, which is ordinarily then passed to a normalization function\n",
    "predictions=model(x_train[:1]).numpy()\n",
    "predictions"
   ]
  },
  {
   "cell_type": "code",
   "execution_count": 5,
   "id": "neutral-sharp",
   "metadata": {},
   "outputs": [
    {
     "data": {
      "text/plain": [
       "array([[0.07563291, 0.15176502, 0.11281775, 0.07287215, 0.12980516,\n",
       "        0.10521176, 0.11359018, 0.11572663, 0.02652697, 0.09605149]],\n",
       "      dtype=float32)"
      ]
     },
     "execution_count": 5,
     "metadata": {},
     "output_type": "execute_result"
    }
   ],
   "source": [
    "tf.nn.softmax(predictions).numpy()"
   ]
  },
  {
   "cell_type": "code",
   "execution_count": 6,
   "id": "adequate-specific",
   "metadata": {},
   "outputs": [],
   "source": [
    "loss_fn = tf.keras.losses.SparseCategoricalCrossentropy(from_logits=True)"
   ]
  },
  {
   "cell_type": "code",
   "execution_count": 7,
   "id": "intimate-responsibility",
   "metadata": {},
   "outputs": [
    {
     "data": {
      "text/plain": [
       "2.25178"
      ]
     },
     "execution_count": 7,
     "metadata": {},
     "output_type": "execute_result"
    }
   ],
   "source": [
    "loss_fn(y_train[:1], predictions).numpy()"
   ]
  },
  {
   "cell_type": "code",
   "execution_count": 8,
   "id": "hourly-psychology",
   "metadata": {},
   "outputs": [],
   "source": [
    "model.compile(optimizer='adam',\n",
    "              loss=loss_fn,\n",
    "              metrics=['accuracy'])"
   ]
  },
  {
   "cell_type": "code",
   "execution_count": 9,
   "id": "static-needle",
   "metadata": {},
   "outputs": [
    {
     "name": "stdout",
     "output_type": "stream",
     "text": [
      "Epoch 1/5\n",
      "1875/1875 [==============================] - 1s 501us/step - loss: 0.2903 - accuracy: 0.91590s - los\n",
      "Epoch 2/5\n",
      "1875/1875 [==============================] - 1s 497us/step - loss: 0.1423 - accuracy: 0.9577\n",
      "Epoch 3/5\n",
      "1875/1875 [==============================] - 1s 489us/step - loss: 0.1091 - accuracy: 0.9670\n",
      "Epoch 4/5\n",
      "1875/1875 [==============================] - 1s 492us/step - loss: 0.0869 - accuracy: 0.9732\n",
      "Epoch 5/5\n",
      "1875/1875 [==============================] - 1s 490us/step - loss: 0.0753 - accuracy: 0.9765\n"
     ]
    },
    {
     "data": {
      "text/plain": [
       "<tensorflow.python.keras.callbacks.History at 0x27c2dd61e20>"
      ]
     },
     "execution_count": 9,
     "metadata": {},
     "output_type": "execute_result"
    }
   ],
   "source": [
    "# Model.fit method adjusts the model parameters to minimize the loss\n",
    "model.fit(x_train, y_train, epochs=5)"
   ]
  },
  {
   "cell_type": "code",
   "execution_count": 10,
   "id": "little-transcription",
   "metadata": {},
   "outputs": [
    {
     "name": "stdout",
     "output_type": "stream",
     "text": [
      "313/313 - 0s - loss: 0.0767 - accuracy: 0.9761\n"
     ]
    },
    {
     "data": {
      "text/plain": [
       "[0.07671293616294861, 0.9761000275611877]"
      ]
     },
     "execution_count": 10,
     "metadata": {},
     "output_type": "execute_result"
    }
   ],
   "source": [
    "# The Model.evaluate method checks the models performance, usually on a \"Validation-set\" or \"Test-set\"\n",
    "# \"Validation-set\": A subset of the dataset-disjoint from the training set-used in validation\n",
    "# \"Test-set\": The subset of the dataset that you use to test your model after the model has gone through initial vetting by the calidation set\n",
    "model.evaluate(x_test,  y_test, verbose=2)"
   ]
  },
  {
   "cell_type": "code",
   "execution_count": 11,
   "id": "innocent-syndrome",
   "metadata": {},
   "outputs": [],
   "source": [
    "# Stack one more layer \"softmax\" to return a probability \n",
    "probability_model = tf.keras.Sequential([\n",
    "  model,\n",
    "  tf.keras.layers.Softmax()\n",
    "])\n",
    "probability_model(x_test[:5])"
   ]
  },
  {
   "cell_type": "code",
   "execution_count": 12,
   "id": "entire-croatia",
   "metadata": {},
   "outputs": [
    {
     "data": {
      "text/plain": [
       "<tf.Tensor: shape=(5, 10), dtype=float32, numpy=\n",
       "array([[1.50353083e-06, 1.67556866e-08, 4.72604625e-05, 2.43833827e-04,\n",
       "        1.51363894e-10, 1.00645394e-07, 7.28237783e-12, 9.99700069e-01,\n",
       "        2.10894427e-06, 5.18780689e-06],\n",
       "       [7.93964077e-08, 3.17489066e-05, 9.99966979e-01, 1.16182082e-06,\n",
       "        3.59626764e-16, 1.18230536e-08, 7.42100825e-09, 5.98782075e-15,\n",
       "        2.32962116e-09, 6.13454600e-14],\n",
       "       [9.97810730e-06, 9.96316552e-01, 1.49815134e-03, 1.01838246e-04,\n",
       "        3.07188493e-05, 5.21967486e-05, 1.70283529e-04, 1.38122705e-03,\n",
       "        4.31863795e-04, 7.21054994e-06],\n",
       "       [9.99959826e-01, 3.58427088e-09, 2.10370326e-05, 2.94366735e-08,\n",
       "        7.76663001e-09, 4.53561682e-07, 1.04774035e-05, 3.20714349e-07,\n",
       "        2.61019295e-09, 7.83128871e-06],\n",
       "       [4.45586920e-06, 8.66842331e-09, 7.68034351e-06, 1.97442880e-08,\n",
       "        9.97276843e-01, 6.11160374e-07, 1.46676111e-05, 1.18743490e-04,\n",
       "        1.63840843e-06, 2.57539516e-03]], dtype=float32)>"
      ]
     },
     "execution_count": 12,
     "metadata": {},
     "output_type": "execute_result"
    }
   ],
   "source": []
  },
  {
   "cell_type": "code",
   "execution_count": null,
   "id": "attached-ticket",
   "metadata": {},
   "outputs": [],
   "source": []
  }
 ],
 "metadata": {
  "kernelspec": {
   "display_name": "Python 3",
   "language": "python",
   "name": "python3"
  },
  "language_info": {
   "codemirror_mode": {
    "name": "ipython",
    "version": 3
   },
   "file_extension": ".py",
   "mimetype": "text/x-python",
   "name": "python",
   "nbconvert_exporter": "python",
   "pygments_lexer": "ipython3",
   "version": "3.8.8"
  }
 },
 "nbformat": 4,
 "nbformat_minor": 5
}
